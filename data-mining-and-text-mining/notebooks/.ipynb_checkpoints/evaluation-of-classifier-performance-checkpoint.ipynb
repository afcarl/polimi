{
 "cells": [
  {
   "cell_type": "markdown",
   "metadata": {},
   "source": [
    "# Evaluation of Classifier Performance"
   ]
  },
  {
   "cell_type": "code",
   "execution_count": 2,
   "metadata": {
    "scrolled": false
   },
   "outputs": [
    {
     "name": "stdout",
     "output_type": "stream",
     "text": [
      "Simple Logistic Regression\t0.808\t0.009\n",
      "Naive Bayes\t0.770\t0.017\n",
      "k Nearest Neighbor\t0.801\t0.004\n",
      "Random Forest\t0.807\t0.007\n"
     ]
    }
   ],
   "source": [
    "# general liberaries\n",
    "import pandas as pd\n",
    "import numpy as np\n",
    "import matplotlib.pyplot as plt\n",
    "import math\n",
    "\n",
    "# stats liberaries\n",
    "from scipy import stats\n",
    "\n",
    "# evaluation liberaries\n",
    "from sklearn import model_selection\n",
    "from sklearn.metrics import precision_score\n",
    "from sklearn.metrics import recall_score\n",
    "from sklearn.metrics import confusion_matrix\n",
    "from sklearn.metrics import precision_recall_curve\n",
    "from sklearn.metrics import average_precision_score\n",
    "from sklearn.metrics import precision_score\n",
    "from sklearn.metrics import recall_score\n",
    "from sklearn.metrics import accuracy_score\n",
    "from sklearn.metrics import roc_curve\n",
    "from sklearn.metrics import roc_auc_score\n",
    "\n",
    "# models\n",
    "from sklearn import linear_model\n",
    "from sklearn import naive_bayes\n",
    "from sklearn import neighbors\n",
    "from sklearn.neighbors.nearest_centroid import NearestCentroid\n",
    "from sklearn import tree\n",
    "from sklearn.ensemble import RandomForestClassifier\n",
    "\n",
    "%matplotlib inline\n",
    "\n",
    "# load the data\n",
    "loans = pd.read_csv('./data/loans.csv')\n",
    "\n",
    "# setup\n",
    "target = 'safe_loans'\n",
    "features = loans.columns[loans.columns!=target]\n",
    "\n",
    "x = loans[features]\n",
    "y = loans[target]\n",
    "\n",
    "# apply classifier methods\n",
    "simple_logistic = linear_model.LogisticRegression(C=10e10, random_state=0)\n",
    "simple_eval = model_selection.cross_val_score(simple_logistic, x, y, cv=10)\n",
    "print(\"Simple Logistic Regression\\t%4.3f\\t%4.3f\" % (np.average(simple_eval), np.std(simple_eval)))\n",
    "\n",
    "nb = naive_bayes.GaussianNB();\n",
    "nb_eval = model_selection.cross_val_score(nb, x, y, cv=10)\n",
    "print(\"Naive Bayes\\t%4.3f\\t%4.3f\" % (np.average(nb_eval), np.std(nb_eval)))\n",
    "\n",
    "knn = neighbors.KNeighborsClassifier(20, weights='distance')\n",
    "knn_eval = model_selection.cross_val_score(knn, x, y, cv=10)\n",
    "print(\"k Nearest Neighbor\\t%4.3f\\t%4.3f\" % (np.average(knn_eval), np.std(knn_eval)))\n",
    "\n",
    "rf = RandomForestClassifier(n_estimators=40, max_depth=None, min_samples_split=2, random_state=0)\n",
    "rf_eval = model_selection.cross_val_score(rf, x, y)\n",
    "print(\"Random Forest\\t%4.3f\\t%4.3f\" % (np.average(rf_eval), np.std(rf_eval)))"
   ]
  },
  {
   "cell_type": "markdown",
   "metadata": {},
   "source": [
    "## Unpaired t-test"
   ]
  },
  {
   "cell_type": "code",
   "execution_count": 3,
   "metadata": {
    "scrolled": true
   },
   "outputs": [
    {
     "name": "stdout",
     "output_type": "stream",
     "text": [
      "Logistic Regression vs Random Forests: p-value = 0.855\n",
      "The difference is not statistically significant (cf 0.95)\n",
      "\n",
      "\n",
      "Logistic Regression vs Naive Bayes: p-value = 0.000\n",
      "The difference is statistically significant (cf 0.95)\n",
      "\n",
      "\n"
     ]
    }
   ],
   "source": [
    "def PrintSignificance(stat, c):\n",
    "    if (stat[1]<(1-c)):\n",
    "        print(\"The difference is statistically significant (cf %3.2f)\"%c)\n",
    "    else:\n",
    "        print(\"The difference is not statistically significant (cf %3.2f)\"%c)\n",
    "        \n",
    "        \n",
    "unpaired_lr_rf = stats.ttest_ind(simple_eval, rf_eval)\n",
    "print(\"Logistic Regression vs Random Forests: p-value = %4.3f\"%unpaired_lr_rf[1])\n",
    "PrintSignificance(unpaired_lr_rf, 0.95)\n",
    "print(\"\\n\")\n",
    "\n",
    "unpaired_lr_nb = stats.ttest_ind(simple_eval, nb_eval)\n",
    "print(\"Logistic Regression vs Naive Bayes: p-value = %4.3f\"%unpaired_lr_nb[1])\n",
    "PrintSignificance(unpaired_lr_nb, 0.95)\n",
    "print(\"\\n\")"
   ]
  },
  {
   "cell_type": "markdown",
   "metadata": {},
   "source": [
    "## Paired t-test"
   ]
  },
  {
   "cell_type": "code",
   "execution_count": null,
   "metadata": {
    "collapsed": true
   },
   "outputs": [],
   "source": [
    "# Apply the methods to the same training and test sets\n",
    "\n",
    "tf = model_selection.KFold(n_splits=10, shuffle=True, random_state=123456)\n",
    "\n",
    "knn_scores = []\n",
    "rf_scores = []\n",
    "\n",
    "tf.split(loans)\n",
    "for train, test in tf.split(loans):\n",
    "    l = loans.loc[train]\n",
    "    train_x = l[features]\n",
    "    train_y = l[target]\n",
    "    \n",
    "    l_test = loans.loc[test]\n",
    "    test_x = l_test[features]\n",
    "    test_y = l_test[target]\n",
    "    \n",
    "    knn = neighbors.KNeighborsClassifier(20, weights='distance')\n",
    "    knn = knn.fit(train_x, train_y)\n",
    "    acc_knn = accuracy_score(test_y, knn.predict(test_x))\n",
    "\n",
    "    rf = RandomForestClassifier(n_estimators=40, max_depth=None, min_samples_split=2, random_state=0)\n",
    "    rf = rf.fit(train_x, train_y)\n",
    "    acc_rf = accuracy_score(test_y, rf.predict(test_x))\n",
    "    \n",
    "    knn_scores = knn_scores + [acc_knn]\n",
    "    rf_scores = rf_scores + [acc_rf]\n",
    "    \n",
    "print(\"k Nearest Neighbor\\t%4.3f\\t%4.3f\" % (np.average(knn_scores), np.std(knn_scores)))\n",
    "print(\"Random Forest     \\t%4.3f\\t%4.3f\" % (np.average(rf_scores), np.std(rf_scores)))"
   ]
  },
  {
   "cell_type": "code",
   "execution_count": null,
   "metadata": {
    "collapsed": true
   },
   "outputs": [],
   "source": [
    "paired_test = stats.ttest_rel(knn_scores, rf_scores)\n",
    "print(\"k-nn vs Random Forests: p-value = %4.3f\"%paired_test[1])\n",
    "PrintSignificance(paired_test, 0.95)"
   ]
  }
 ],
 "metadata": {
  "kernelspec": {
   "display_name": "Python 3",
   "language": "python",
   "name": "python3"
  },
  "language_info": {
   "codemirror_mode": {
    "name": "ipython",
    "version": 3
   },
   "file_extension": ".py",
   "mimetype": "text/x-python",
   "name": "python",
   "nbconvert_exporter": "python",
   "pygments_lexer": "ipython3",
   "version": "3.6.0"
  }
 },
 "nbformat": 4,
 "nbformat_minor": 2
}
