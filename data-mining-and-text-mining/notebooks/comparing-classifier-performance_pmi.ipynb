{
 "cells": [
  {
   "cell_type": "markdown",
   "metadata": {},
   "source": [
    "# Comparing classification performance"
   ]
  },
  {
   "cell_type": "markdown",
   "metadata": {},
   "source": [
    "In this notebook, we use the loaon example data set and evaluate several classification algorithms. "
   ]
  },
  {
   "cell_type": "code",
   "execution_count": 1,
   "metadata": {
    "collapsed": true
   },
   "outputs": [],
   "source": [
    "# general purpose libraries libraries for tools\n",
    "import pandas as pd\n",
    "import numpy as np\n",
    "import matplotlib.pyplot as plt\n",
    "import math\n",
    "\n",
    "# models\n",
    "from sklearn import linear_model\n",
    "from sklearn import naive_bayes\n",
    "from sklearn import neighbors\n",
    "from sklearn.neighbors.nearest_centroid import NearestCentroid\n",
    "from sklearn import tree\n",
    "from sklearn.ensemble import RandomForestClassifier\n",
    "from sklearn.model_selection import StratifiedKFold\n",
    "\n",
    "# stat libraries\n",
    "from scipy import stats\n",
    "\n",
    "# Libraries for the evaluation\n",
    "from sklearn import model_selection\n",
    "from sklearn.metrics import precision_score\n",
    "from sklearn.metrics import recall_score\n",
    "from sklearn.metrics import confusion_matrix\n",
    "from sklearn.metrics import precision_recall_curve\n",
    "from sklearn.metrics import average_precision_score\n",
    "from sklearn.metrics import precision_score\n",
    "from sklearn.metrics import recall_score\n",
    "from sklearn.metrics import accuracy_score\n",
    "from sklearn.metrics import roc_curve\n",
    "from sklearn.metrics import roc_auc_score\n",
    "\n",
    "%matplotlib inline"
   ]
  },
  {
   "cell_type": "markdown",
   "metadata": {},
   "source": [
    "First we load the dataset"
   ]
  },
  {
   "cell_type": "code",
   "execution_count": 3,
   "metadata": {},
   "outputs": [
    {
     "data": {
      "text/html": [
       "<div>\n",
       "<table border=\"1\" class=\"dataframe\">\n",
       "  <thead>\n",
       "    <tr style=\"text-align: right;\">\n",
       "      <th></th>\n",
       "      <th>sub_grade_num</th>\n",
       "      <th>short_emp</th>\n",
       "      <th>emp_length_num</th>\n",
       "      <th>dti</th>\n",
       "      <th>payment_inc_ratio</th>\n",
       "      <th>delinq_2yrs</th>\n",
       "      <th>delinq_2yrs_zero</th>\n",
       "      <th>inq_last_6mths</th>\n",
       "      <th>last_delinq_none</th>\n",
       "      <th>last_major_derog_none</th>\n",
       "      <th>...</th>\n",
       "      <th>int_rate</th>\n",
       "      <th>total_rec_int</th>\n",
       "      <th>annual_inc</th>\n",
       "      <th>funded_amnt</th>\n",
       "      <th>funded_amnt_inv</th>\n",
       "      <th>installment</th>\n",
       "      <th>num_term</th>\n",
       "      <th>grade_num</th>\n",
       "      <th>loan_amnt</th>\n",
       "      <th>safe_loans</th>\n",
       "    </tr>\n",
       "  </thead>\n",
       "  <tbody>\n",
       "    <tr>\n",
       "      <th>0</th>\n",
       "      <td>0.4</td>\n",
       "      <td>0</td>\n",
       "      <td>11</td>\n",
       "      <td>27.65</td>\n",
       "      <td>8.14350</td>\n",
       "      <td>0.0</td>\n",
       "      <td>1.0</td>\n",
       "      <td>1.0</td>\n",
       "      <td>1</td>\n",
       "      <td>1</td>\n",
       "      <td>...</td>\n",
       "      <td>10.65</td>\n",
       "      <td>861.07</td>\n",
       "      <td>24000.0</td>\n",
       "      <td>5000</td>\n",
       "      <td>4975</td>\n",
       "      <td>162.87</td>\n",
       "      <td>36</td>\n",
       "      <td>5</td>\n",
       "      <td>5000</td>\n",
       "      <td>1</td>\n",
       "    </tr>\n",
       "    <tr>\n",
       "      <th>1</th>\n",
       "      <td>0.8</td>\n",
       "      <td>1</td>\n",
       "      <td>1</td>\n",
       "      <td>1.00</td>\n",
       "      <td>2.39320</td>\n",
       "      <td>0.0</td>\n",
       "      <td>1.0</td>\n",
       "      <td>5.0</td>\n",
       "      <td>1</td>\n",
       "      <td>1</td>\n",
       "      <td>...</td>\n",
       "      <td>15.27</td>\n",
       "      <td>435.17</td>\n",
       "      <td>30000.0</td>\n",
       "      <td>2500</td>\n",
       "      <td>2500</td>\n",
       "      <td>59.83</td>\n",
       "      <td>60</td>\n",
       "      <td>4</td>\n",
       "      <td>2500</td>\n",
       "      <td>-1</td>\n",
       "    </tr>\n",
       "    <tr>\n",
       "      <th>2</th>\n",
       "      <td>1.0</td>\n",
       "      <td>0</td>\n",
       "      <td>11</td>\n",
       "      <td>8.72</td>\n",
       "      <td>8.25955</td>\n",
       "      <td>0.0</td>\n",
       "      <td>1.0</td>\n",
       "      <td>2.0</td>\n",
       "      <td>1</td>\n",
       "      <td>1</td>\n",
       "      <td>...</td>\n",
       "      <td>15.96</td>\n",
       "      <td>603.65</td>\n",
       "      <td>12252.0</td>\n",
       "      <td>2400</td>\n",
       "      <td>2400</td>\n",
       "      <td>84.33</td>\n",
       "      <td>36</td>\n",
       "      <td>4</td>\n",
       "      <td>2400</td>\n",
       "      <td>1</td>\n",
       "    </tr>\n",
       "    <tr>\n",
       "      <th>3</th>\n",
       "      <td>0.2</td>\n",
       "      <td>0</td>\n",
       "      <td>11</td>\n",
       "      <td>20.00</td>\n",
       "      <td>8.27585</td>\n",
       "      <td>0.0</td>\n",
       "      <td>1.0</td>\n",
       "      <td>1.0</td>\n",
       "      <td>0</td>\n",
       "      <td>1</td>\n",
       "      <td>...</td>\n",
       "      <td>13.49</td>\n",
       "      <td>2209.33</td>\n",
       "      <td>49200.0</td>\n",
       "      <td>10000</td>\n",
       "      <td>10000</td>\n",
       "      <td>339.31</td>\n",
       "      <td>36</td>\n",
       "      <td>4</td>\n",
       "      <td>10000</td>\n",
       "      <td>1</td>\n",
       "    </tr>\n",
       "    <tr>\n",
       "      <th>4</th>\n",
       "      <td>0.8</td>\n",
       "      <td>0</td>\n",
       "      <td>4</td>\n",
       "      <td>11.20</td>\n",
       "      <td>5.21533</td>\n",
       "      <td>0.0</td>\n",
       "      <td>1.0</td>\n",
       "      <td>3.0</td>\n",
       "      <td>1</td>\n",
       "      <td>1</td>\n",
       "      <td>...</td>\n",
       "      <td>7.90</td>\n",
       "      <td>631.38</td>\n",
       "      <td>36000.0</td>\n",
       "      <td>5000</td>\n",
       "      <td>5000</td>\n",
       "      <td>156.46</td>\n",
       "      <td>36</td>\n",
       "      <td>6</td>\n",
       "      <td>5000</td>\n",
       "      <td>1</td>\n",
       "    </tr>\n",
       "  </tbody>\n",
       "</table>\n",
       "<p>5 rows × 25 columns</p>\n",
       "</div>"
      ],
      "text/plain": [
       "   sub_grade_num  short_emp  emp_length_num    dti  payment_inc_ratio  \\\n",
       "0            0.4          0              11  27.65            8.14350   \n",
       "1            0.8          1               1   1.00            2.39320   \n",
       "2            1.0          0              11   8.72            8.25955   \n",
       "3            0.2          0              11  20.00            8.27585   \n",
       "4            0.8          0               4  11.20            5.21533   \n",
       "\n",
       "   delinq_2yrs  delinq_2yrs_zero  inq_last_6mths  last_delinq_none  \\\n",
       "0          0.0               1.0             1.0                 1   \n",
       "1          0.0               1.0             5.0                 1   \n",
       "2          0.0               1.0             2.0                 1   \n",
       "3          0.0               1.0             1.0                 0   \n",
       "4          0.0               1.0             3.0                 1   \n",
       "\n",
       "   last_major_derog_none     ...      int_rate  total_rec_int  annual_inc  \\\n",
       "0                      1     ...         10.65         861.07     24000.0   \n",
       "1                      1     ...         15.27         435.17     30000.0   \n",
       "2                      1     ...         15.96         603.65     12252.0   \n",
       "3                      1     ...         13.49        2209.33     49200.0   \n",
       "4                      1     ...          7.90         631.38     36000.0   \n",
       "\n",
       "   funded_amnt  funded_amnt_inv  installment  num_term  grade_num  loan_amnt  \\\n",
       "0         5000             4975       162.87        36          5       5000   \n",
       "1         2500             2500        59.83        60          4       2500   \n",
       "2         2400             2400        84.33        36          4       2400   \n",
       "3        10000            10000       339.31        36          4      10000   \n",
       "4         5000             5000       156.46        36          6       5000   \n",
       "\n",
       "   safe_loans  \n",
       "0           1  \n",
       "1          -1  \n",
       "2           1  \n",
       "3           1  \n",
       "4           1  \n",
       "\n",
       "[5 rows x 25 columns]"
      ]
     },
     "execution_count": 3,
     "metadata": {},
     "output_type": "execute_result"
    }
   ],
   "source": [
    "loans = pd.read_csv('./data/loans-numerical.csv')"
   ]
  },
  {
   "cell_type": "code",
   "execution_count": null,
   "metadata": {
    "collapsed": true
   },
   "outputs": [],
   "source": [
    "target = 'safe_loans'\n",
    "features = loans.columns[loans.columns!=target]\n",
    "\n",
    "x = loans[features]\n",
    "y = loans[target]"
   ]
  },
  {
   "cell_type": "markdown",
   "metadata": {},
   "source": [
    "First we apply a logistic regression without regularization ($\\alpha$ is zero). The Scikit-learn function does not allow to specify $\\alpha$ but it uses a parameter C=1/$\\alpha$. Accordingly, to have no regularization we need to specify a huge value of C. And we evaluate the model using plain crossvalidation."
   ]
  },
  {
   "cell_type": "code",
   "execution_count": null,
   "metadata": {
    "collapsed": true
   },
   "outputs": [],
   "source": [
    "simple_logistic = linear_model.LogisticRegression(C=10e10, random_state=0)\n",
    "simple_eval = model_selection.cross_val_score(simple_logistic, x, y, cv=StratifiedKFold(n_splits=10,random_state=52725,shuffle=True))\n",
    "print(\"Simple Logistic Regression\\t%4.3f\\t%4.3f\" % (np.average(simple_eval), np.std(simple_eval)))"
   ]
  },
  {
   "cell_type": "code",
   "execution_count": null,
   "metadata": {
    "collapsed": true
   },
   "outputs": [],
   "source": [
    "nb = naive_bayes.GaussianNB();\n",
    "nb_eval = model_selection.cross_val_score(nb, x, y, cv=StratifiedKFold(n_splits=10,random_state=52725,shuffle=True))\n",
    "print(\"Naive Bayes\\t%4.3f\\t%4.3f\" % (np.average(nb_eval), np.std(nb_eval)))"
   ]
  },
  {
   "cell_type": "code",
   "execution_count": null,
   "metadata": {
    "collapsed": true
   },
   "outputs": [],
   "source": [
    "knn = neighbors.KNeighborsClassifier(20, weights='distance')\n",
    "knn_eval = model_selection.cross_val_score(knn, x, y, cv=StratifiedKFold(n_splits=10,random_state=52725,shuffle=True))\n",
    "print(\"k Nearest Neighbor\\t%4.3f\\t%4.3f\" % (np.average(knn_eval), np.std(knn_eval)))"
   ]
  },
  {
   "cell_type": "code",
   "execution_count": null,
   "metadata": {
    "collapsed": true
   },
   "outputs": [],
   "source": [
    "rf = RandomForestClassifier(n_estimators=40, max_depth=None, min_samples_split=2, random_state=0)\n",
    "rf_eval = model_selection.cross_val_score(rf, x, y, cv=StratifiedKFold(n_splits=10,random_state=52725,shuffle=True))\n",
    "print(\"Random Forest\\t%4.3f\\t%4.3f\" % (np.average(rf_eval), np.std(rf_eval)))"
   ]
  },
  {
   "cell_type": "markdown",
   "metadata": {},
   "source": [
    "# Comparing Two Models using Unpaired t-test\n",
    "\n",
    "Although all the models have been evaluated have been evaluated with cross-validation, we don't know whether the folds are the same. Thus for instance we don't know if the first element in the evaluation array was measured on the same fold over all the algorithms. Accordingly, we need to apply unpaired t-Test.\n",
    "Let's compare the performance of Logistic Regression vs Random Forests."
   ]
  },
  {
   "cell_type": "code",
   "execution_count": null,
   "metadata": {
    "collapsed": true
   },
   "outputs": [],
   "source": [
    "def PrintSignificance(stat, c):\n",
    "    if (stat[1]<(1-c)):\n",
    "        print(\"The difference is statistically significant (cf %3.2f)\"%c)\n",
    "    else:\n",
    "        print(\"The difference is not statistically significant (cf %3.2f)\"%c)\n",
    "        \n",
    "unpaired_lr_rf = stats.ttest_ind(simple_eval, rf_eval)\n",
    "print(\"Logistic Regression vs Random Forests: p-value = %4.3f\"%unpaired_lr_rf[1])\n",
    "PrintSignificance(unpaired_lr_rf, 0.95)\n",
    "print(\"\\n\")\n",
    "\n",
    "unpaired_lr_nb = stats.ttest_ind(simple_eval, nb_eval)\n",
    "print(\"Logistic Regression vs Naive Bayes: p-value = %4.3f\"%unpaired_lr_nb[1])\n",
    "PrintSignificance(unpaired_lr_nb, 0.95)\n",
    "print(\"\\n\")"
   ]
  },
  {
   "cell_type": "markdown",
   "metadata": {},
   "source": [
    "# Comparing Two Models using Paired t-Test\n",
    "\n",
    "We compare k-nearest-neighbor and random forests using the same folds."
   ]
  },
  {
   "cell_type": "code",
   "execution_count": null,
   "metadata": {
    "collapsed": true
   },
   "outputs": [],
   "source": [
    "tf = model_selection.KFold(n_splits=10)\n",
    "\n",
    "knn_scores = []\n",
    "rf_scores = []\n",
    "\n",
    "tf.split(loans)\n",
    "for train, test in tf.split(loans):\n",
    "    l = loans.loc[train]\n",
    "    train_x = l[features]\n",
    "    train_y = l[target]\n",
    "    \n",
    "    l_test = loans.loc[test]\n",
    "    test_x = l_test[features]\n",
    "    test_y = l_test[target]\n",
    "    \n",
    "    knn = neighbors.KNeighborsClassifier(20, weights='distance')\n",
    "    knn = knn.fit(train_x, train_y)\n",
    "    acc_knn = accuracy_score(test_y, knn.predict(test_x))\n",
    "\n",
    "    rf = RandomForestClassifier(n_estimators=40, max_depth=None, min_samples_split=2, random_state=0)\n",
    "    rf = rf.fit(train_x, train_y)\n",
    "    acc_rf = accuracy_score(test_y, rf.predict(test_x))\n",
    "    \n",
    "    knn_scores = knn_scores + [acc_knn]\n",
    "    rf_scores = rf_scores + [acc_rf]\n",
    "    \n",
    "print(\"k Nearest Neighbor\\t%4.3f\\t%4.3f\" % (np.average(knn_scores), np.std(knn_scores)))\n",
    "print(\"Random Forest     \\t%4.3f\\t%4.3f\" % (np.average(rf_scores), np.std(rf_scores)))"
   ]
  },
  {
   "cell_type": "code",
   "execution_count": null,
   "metadata": {
    "collapsed": true
   },
   "outputs": [],
   "source": [
    "paired_test = stats.ttest_rel(knn_scores, rf_scores)\n",
    "print(\"k-nn vs Random Forests: p-value = %4.3f\"%paired_test[1])\n",
    "PrintSignificance(paired_test, 0.95)"
   ]
  },
  {
   "cell_type": "code",
   "execution_count": null,
   "metadata": {
    "collapsed": true
   },
   "outputs": [],
   "source": [
    "# Receiver Operating Characteristic (ROC) Curves¶\n",
    "\n",
    "We now plot the ROC curve for Logistic Regression and Naive Bayes"
   ]
  },
  {
   "cell_type": "code",
   "execution_count": null,
   "metadata": {
    "collapsed": true
   },
   "outputs": [],
   "source": [
    "train_x, test_x, train_y, test_y = model_selection.train_test_split(x, y, test_size=0.33, random_state=42)\n",
    "\n",
    "simple_logistic = linear_model.LogisticRegression(C=10e10, random_state=0)\n",
    "simple_eval = simple_logistic.fit(train_x, train_y)\n",
    "lr_pred = simple_logistic.predict(test_x);\n",
    "lr_acc = accuracy_score(y_true=test_y, y_pred=lr_pred)\n",
    "print(\"Logistic Regression\\t%4.3f\" % lr_acc)\n",
    "\n",
    "nb = naive_bayes.GaussianNB();\n",
    "nb_eval = nb.fit(train_x, train_y)\n",
    "nb_pred = nb.predict(test_x)\n",
    "nb_acc = accuracy_score(y_true=test_y, y_pred=nb_pred)\n",
    "print(\"Naive Bayes        \\t%4.3f\" % nb_acc)\n",
    "\n",
    "rf = RandomForestClassifier(n_estimators=40, max_depth=None, min_samples_split=2, random_state=0)\n",
    "rf_eval = rf.fit(train_x, train_y)\n",
    "rf_pred = rf.predict(test_x)\n",
    "rf_acc = accuracy_score(y_true=test_y, y_pred=rf_pred)\n",
    "print(\"Random Forest      \\t%4.3f\" % rf_acc)\n",
    "\n",
    "\n",
    "lr_prob = simple_eval.predict_proba(test_x)\n",
    "nb_prob = nb_eval.predict_proba(test_x)\n",
    "rf_prob = rf_eval.predict_proba(test_x)\n",
    "\n",
    "fpr, tpr, thresholds = roc_curve(y_true=test_y, y_score = lr_prob[:,1], pos_label=1)\n",
    "fpr_nb, tpr_nb, thresholds_nb = roc_curve(y_true=test_y, y_score = nb_prob[:,1], pos_label=1)\n",
    "fpr_rf, tpr_rf, thresholds_rf = roc_curve(y_true=test_y, y_score = rf_prob[:,1], pos_label=1)\n",
    "\n",
    "\n",
    "\n",
    "lr_roc_auc = roc_auc_score(y_true=test_y, y_score = lr_prob[:,1])\n",
    "nb_roc_auc = roc_auc_score(y_true=test_y, y_score = nb_prob[:,1])\n",
    "rf_roc_auc = roc_auc_score(y_true=test_y, y_score = rf_prob[:,1])\n",
    "\n",
    "\n",
    "\n",
    "plt.figure(1, figsize=(8, 8));\n",
    "font = {'family':'sans', 'size':24};\n",
    "plt.rc('font', **font);\n",
    "plt.xlabel('FPR');\n",
    "plt.ylabel('TPR');\n",
    "plt.plot(fpr,tpr,label='Logistic Regression (%3.2f)'%lr_roc_auc)\n",
    "plt.plot(fpr_nb,tpr_nb,label='Naive Bayes (%3.2f)'%nb_roc_auc)\n",
    "plt.plot(fpr_rf,tpr_rf,label='Random Forest (%3.2f)'%rf_roc_auc)\n",
    "plt.yticks(np.arange(0.0,1.01,.2))\n",
    "plt.legend()\n",
    "plt.show();"
   ]
  },
  {
   "cell_type": "markdown",
   "metadata": {},
   "source": [
    "So while accuracy is quite different (almost four percentage points) the AUC for Logistic Regression and Naive Bayes is quite similar. This is not surprising as the two metrics measures different aspects of performance. The ROC curve shows that the two approaches behave similarly when it comes to TPR and FPR. Random forests perform better both as accuracy and AUC."
   ]
  },
  {
   "cell_type": "code",
   "execution_count": null,
   "metadata": {
    "collapsed": true
   },
   "outputs": [],
   "source": []
  }
 ],
 "metadata": {
  "kernelspec": {
   "display_name": "Python 3",
   "language": "python",
   "name": "python3"
  },
  "language_info": {
   "codemirror_mode": {
    "name": "ipython",
    "version": 3
   },
   "file_extension": ".py",
   "mimetype": "text/x-python",
   "name": "python",
   "nbconvert_exporter": "python",
   "pygments_lexer": "ipython3",
   "version": "3.6.0"
  }
 },
 "nbformat": 4,
 "nbformat_minor": 2
}
